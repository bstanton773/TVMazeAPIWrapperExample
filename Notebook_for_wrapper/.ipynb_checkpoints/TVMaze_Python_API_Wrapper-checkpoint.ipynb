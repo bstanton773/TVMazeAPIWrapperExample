{
 "cells": [
  {
   "cell_type": "markdown",
   "metadata": {},
   "source": [
    "# TV Maze Python API Wrapper\n",
    "\n",
    "Creating an API wrapper for the TV Maze API"
   ]
  },
  {
   "cell_type": "code",
   "execution_count": 1,
   "metadata": {},
   "outputs": [],
   "source": [
    "import requests"
   ]
  },
  {
   "cell_type": "code",
   "execution_count": 2,
   "metadata": {},
   "outputs": [
    {
     "data": {
      "text/plain": [
       "<Response [200]>"
      ]
     },
     "execution_count": 2,
     "metadata": {},
     "output_type": "execute_result"
    }
   ],
   "source": [
    "res = requests.get('http://api.tvmaze.com/search/shows?q=Succession')\n",
    "\n",
    "res"
   ]
  },
  {
   "cell_type": "code",
   "execution_count": 3,
   "metadata": {},
   "outputs": [
    {
     "data": {
      "text/plain": [
       "[{'score': 33.621822,\n",
       "  'show': {'id': 23470,\n",
       "   'url': 'https://www.tvmaze.com/shows/23470/succession',\n",
       "   'name': 'Succession',\n",
       "   'type': 'Scripted',\n",
       "   'language': 'English',\n",
       "   'genres': ['Drama', 'Family'],\n",
       "   'status': 'Running',\n",
       "   'runtime': 60,\n",
       "   'averageRuntime': 61,\n",
       "   'premiered': '2018-06-03',\n",
       "   'officialSite': 'https://www.hbo.com/succession',\n",
       "   'schedule': {'time': '21:00', 'days': ['Sunday']},\n",
       "   'rating': {'average': 7.4},\n",
       "   'weight': 96,\n",
       "   'network': {'id': 8,\n",
       "    'name': 'HBO',\n",
       "    'country': {'name': 'United States',\n",
       "     'code': 'US',\n",
       "     'timezone': 'America/New_York'}},\n",
       "   'webChannel': None,\n",
       "   'dvdCountry': None,\n",
       "   'externals': {'tvrage': None, 'thetvdb': 338186, 'imdb': 'tt7660850'},\n",
       "   'image': {'medium': 'https://static.tvmaze.com/uploads/images/medium_portrait/204/512284.jpg',\n",
       "    'original': 'https://static.tvmaze.com/uploads/images/original_untouched/204/512284.jpg'},\n",
       "   'summary': '<p><b>Succession </b>follows the saga of the Roys, a fictional, American global-media family that is not only rich and powerful but also powerfully dysfunctional. The drama will explore family loyalty, international business and the perils of power in the 21st century.</p>',\n",
       "   'updated': 1597445830,\n",
       "   '_links': {'self': {'href': 'https://api.tvmaze.com/shows/23470'},\n",
       "    'previousepisode': {'href': 'https://api.tvmaze.com/episodes/1713524'}}}},\n",
       " {'score': 2.573159,\n",
       "  'show': {'id': 54482,\n",
       "   'url': 'https://www.tvmaze.com/shows/54482/seven-knights-revolution-hero-successor',\n",
       "   'name': 'Seven Knights Revolution: Hero Successor',\n",
       "   'type': 'Animation',\n",
       "   'language': 'Japanese',\n",
       "   'genres': ['Action', 'Adventure', 'Anime', 'Fantasy'],\n",
       "   'status': 'Running',\n",
       "   'runtime': 24,\n",
       "   'averageRuntime': 24,\n",
       "   'premiered': '2021-04-04',\n",
       "   'officialSite': 'https://sevenknights-anime.jp',\n",
       "   'schedule': {'time': '00:00', 'days': ['Sunday']},\n",
       "   'rating': {'average': None},\n",
       "   'weight': 64,\n",
       "   'network': {'id': 132,\n",
       "    'name': 'Tokyo MX',\n",
       "    'country': {'name': 'Japan', 'code': 'JP', 'timezone': 'Asia/Tokyo'}},\n",
       "   'webChannel': None,\n",
       "   'dvdCountry': None,\n",
       "   'externals': {'tvrage': None, 'thetvdb': 397907, 'imdb': 'tt13984000'},\n",
       "   'image': {'medium': 'https://static.tvmaze.com/uploads/images/medium_portrait/302/755109.jpg',\n",
       "    'original': 'https://static.tvmaze.com/uploads/images/original_untouched/302/755109.jpg'},\n",
       "   'summary': \"<p>Long ago, Heroes had saved this world. Many Heroes fought against the powers of Destruction and protected the world. Years in the future… The Heroes had disappeared as the years passed and those possessing their powers called Successors now have the fate of the world in their hands. One of the elite Successors known as the Seven Knights is fighting an army of the Destruction when she saves a boy named Nemo. During the battle, Nemo awakens the powers of a Hero even he didn't know about and displays his powers as a Successor. But his Hero is someone who no one knew and no one ever spoke of.</p>\",\n",
       "   'updated': 1620285359,\n",
       "   '_links': {'self': {'href': 'https://api.tvmaze.com/shows/54482'},\n",
       "    'previousepisode': {'href': 'https://api.tvmaze.com/episodes/2084996'},\n",
       "    'nextepisode': {'href': 'https://api.tvmaze.com/episodes/2084997'}}}},\n",
       " {'score': 2.4221325,\n",
       "  'show': {'id': 55295,\n",
       "   'url': 'https://www.tvmaze.com/shows/55295/martian-successor-nadesico',\n",
       "   'name': 'Martian Successor Nadesico',\n",
       "   'type': 'Animation',\n",
       "   'language': 'Japanese',\n",
       "   'genres': ['Comedy', 'Action', 'Anime'],\n",
       "   'status': 'Ended',\n",
       "   'runtime': 25,\n",
       "   'averageRuntime': 25,\n",
       "   'premiered': '1996-10-01',\n",
       "   'officialSite': None,\n",
       "   'schedule': {'time': '18:30', 'days': ['Tuesday']},\n",
       "   'rating': {'average': None},\n",
       "   'weight': 0,\n",
       "   'network': {'id': 76,\n",
       "    'name': 'TV Tokyo',\n",
       "    'country': {'name': 'Japan', 'code': 'JP', 'timezone': 'Asia/Tokyo'}},\n",
       "   'webChannel': None,\n",
       "   'dvdCountry': None,\n",
       "   'externals': {'tvrage': None, 'thetvdb': 71313, 'imdb': None},\n",
       "   'image': {'medium': 'https://static.tvmaze.com/uploads/images/medium_portrait/316/792270.jpg',\n",
       "    'original': 'https://static.tvmaze.com/uploads/images/original_untouched/316/792270.jpg'},\n",
       "   'summary': \"Akito doesn't want to fight. Despite a childhood spent on the anime Gekiganger 3, a Mecha show, he'd rather cook than pilot a Mecha. Fate intervenes when his home on Mars is destroyed, and he is transported instantly to the Earth, mysteriously. He has questions no one can answer fully, but follows a girl from a chance meeting in hopes to discover any. The girl, Yurika, is captain of the private battleship Nadesico, and in order to follow her, he enlists as their cook. Possessing the nanite implants that allow to control mechas, he's a handy backup pilot for the mechas of the Nadesico. He joins a crew bent on avenging Mars that seems to be composed of only misfits, otakus, and ditzes; however, in reality, they are handpicked experts. They take their own private war back to Mars to face the harsh reality that life may not always be like a Giant Mecha series.\",\n",
       "   'updated': 1621028119,\n",
       "   '_links': {'self': {'href': 'https://api.tvmaze.com/shows/55295'},\n",
       "    'previousepisode': {'href': 'https://api.tvmaze.com/episodes/2090894'}}}},\n",
       " {'score': 1.5828276,\n",
       "  'show': {'id': 38694,\n",
       "   'url': 'https://www.tvmaze.com/shows/38694/il-bivio-cosa-sarebbe-successo-se',\n",
       "   'name': 'Il bivio - Cosa sarebbe successo se...',\n",
       "   'type': 'Talk Show',\n",
       "   'language': 'Italian',\n",
       "   'genres': [],\n",
       "   'status': 'Ended',\n",
       "   'runtime': None,\n",
       "   'averageRuntime': None,\n",
       "   'premiered': None,\n",
       "   'officialSite': None,\n",
       "   'schedule': {'time': '', 'days': []},\n",
       "   'rating': {'average': None},\n",
       "   'weight': 0,\n",
       "   'network': {'id': 1272,\n",
       "    'name': 'Italia 1',\n",
       "    'country': {'name': 'Italy', 'code': 'IT', 'timezone': 'Europe/Rome'}},\n",
       "   'webChannel': None,\n",
       "   'dvdCountry': None,\n",
       "   'externals': {'tvrage': None, 'thetvdb': None, 'imdb': 'tt8987916'},\n",
       "   'image': None,\n",
       "   'summary': None,\n",
       "   'updated': 1537130382,\n",
       "   '_links': {'self': {'href': 'https://api.tvmaze.com/shows/38694'}}}},\n",
       " {'score': 1.2718729,\n",
       "  'show': {'id': 23262,\n",
       "   'url': 'https://www.tvmaze.com/shows/23262/gokujou-mecha-mote-iinchou',\n",
       "   'name': 'Gokujou!! Mecha Mote Iinchou',\n",
       "   'type': 'Animation',\n",
       "   'language': 'Japanese',\n",
       "   'genres': ['Comedy', 'Anime', 'Romance'],\n",
       "   'status': 'Ended',\n",
       "   'runtime': 25,\n",
       "   'averageRuntime': 25,\n",
       "   'premiered': '2009-04-04',\n",
       "   'officialSite': None,\n",
       "   'schedule': {'time': '', 'days': ['Saturday']},\n",
       "   'rating': {'average': None},\n",
       "   'weight': 0,\n",
       "   'network': {'id': 76,\n",
       "    'name': 'TV Tokyo',\n",
       "    'country': {'name': 'Japan', 'code': 'JP', 'timezone': 'Asia/Tokyo'}},\n",
       "   'webChannel': None,\n",
       "   'dvdCountry': None,\n",
       "   'externals': {'tvrage': None, 'thetvdb': 294899, 'imdb': None},\n",
       "   'image': {'medium': 'https://static.tvmaze.com/uploads/images/medium_portrait/87/218083.jpg',\n",
       "    'original': 'https://static.tvmaze.com/uploads/images/original_untouched/87/218083.jpg'},\n",
       "   'summary': '<p>Mimi Kitagami is a kind, level-headed girl who aims to be the best, coolest student council president of her high school class. However, three trouble-making boys are always causing her grief — and she has a one-sided crush on one of the boys, Ushio Toujou.</p>',\n",
       "   'updated': 1573326662,\n",
       "   '_links': {'self': {'href': 'https://api.tvmaze.com/shows/23262'},\n",
       "    'previousepisode': {'href': 'https://api.tvmaze.com/episodes/1002741'}}}}]"
      ]
     },
     "execution_count": 3,
     "metadata": {},
     "output_type": "execute_result"
    }
   ],
   "source": [
    "res.json()"
   ]
  },
  {
   "cell_type": "code",
   "execution_count": 4,
   "metadata": {},
   "outputs": [
    {
     "data": {
      "text/plain": [
       "<Response [200]>"
      ]
     },
     "execution_count": 4,
     "metadata": {},
     "output_type": "execute_result"
    }
   ],
   "source": [
    "res_show = requests.get('http://api.tvmaze.com/shows/23470')\n",
    "\n",
    "res_show"
   ]
  },
  {
   "cell_type": "code",
   "execution_count": 5,
   "metadata": {},
   "outputs": [
    {
     "data": {
      "text/plain": [
       "{'id': 23470,\n",
       " 'url': 'https://www.tvmaze.com/shows/23470/succession',\n",
       " 'name': 'Succession',\n",
       " 'type': 'Scripted',\n",
       " 'language': 'English',\n",
       " 'genres': ['Drama', 'Family'],\n",
       " 'status': 'Running',\n",
       " 'runtime': 60,\n",
       " 'averageRuntime': 61,\n",
       " 'premiered': '2018-06-03',\n",
       " 'officialSite': 'https://www.hbo.com/succession',\n",
       " 'schedule': {'time': '21:00', 'days': ['Sunday']},\n",
       " 'rating': {'average': 7.4},\n",
       " 'weight': 96,\n",
       " 'network': {'id': 8,\n",
       "  'name': 'HBO',\n",
       "  'country': {'name': 'United States',\n",
       "   'code': 'US',\n",
       "   'timezone': 'America/New_York'}},\n",
       " 'webChannel': None,\n",
       " 'dvdCountry': None,\n",
       " 'externals': {'tvrage': None, 'thetvdb': 338186, 'imdb': 'tt7660850'},\n",
       " 'image': {'medium': 'https://static.tvmaze.com/uploads/images/medium_portrait/204/512284.jpg',\n",
       "  'original': 'https://static.tvmaze.com/uploads/images/original_untouched/204/512284.jpg'},\n",
       " 'summary': '<p><b>Succession </b>follows the saga of the Roys, a fictional, American global-media family that is not only rich and powerful but also powerfully dysfunctional. The drama will explore family loyalty, international business and the perils of power in the 21st century.</p>',\n",
       " 'updated': 1597445830,\n",
       " '_links': {'self': {'href': 'https://api.tvmaze.com/shows/23470'},\n",
       "  'previousepisode': {'href': 'https://api.tvmaze.com/episodes/1713524'}}}"
      ]
     },
     "execution_count": 5,
     "metadata": {},
     "output_type": "execute_result"
    }
   ],
   "source": [
    "res_show.json()"
   ]
  },
  {
   "cell_type": "markdown",
   "metadata": {},
   "source": [
    "### Create TV Maze Class"
   ]
  },
  {
   "cell_type": "code",
   "execution_count": 6,
   "metadata": {},
   "outputs": [],
   "source": [
    "class TVMazeAPI:\n",
    "    \n",
    "    def __init__(self):\n",
    "        self.base_url = 'http://api.tvmaze.com'\n",
    "        self.api_key = ''\n",
    "        \n",
    "    def _get(self, url, headers={}):\n",
    "        response = requests.get(url, headers=headers)\n",
    "        return response\n",
    "    \n",
    "    def _post(self, url):\n",
    "        response = requests.post(url)\n",
    "        return response\n",
    "    \n",
    "    def _create_show_obj(self, info):\n",
    "        show_id = info['id']\n",
    "        title = info['name']\n",
    "        img = info['image']['medium'] if info['image'] else None\n",
    "        summary = info['summary']\n",
    "        network = info['network']['name'] if info['network'] else None\n",
    "        show = TVShow(show_id, title, img, summary, network)\n",
    "        return show\n",
    "    \n",
    "    def search_shows(self, query):\n",
    "        url = self.base_url + f'/search/shows?q={query}'\n",
    "        res = self._get(url)\n",
    "        if res.status_code == 200:\n",
    "            searched_shows = res.json()\n",
    "            return [self._create_show_obj(show['show']) for show in searched_shows]\n",
    "        return res\n",
    "    \n",
    "    def get_show_info(self, show_id):\n",
    "        url = self.base_url + f'/shows/{show_id}'\n",
    "        res = self._get(url)\n",
    "        if res.status_code == 200:\n",
    "            info = res.json()\n",
    "            show = self._create_show_obj(info)\n",
    "            return show\n",
    "        return res\n",
    "    \n",
    "    def get_episode_list(self, show_id):\n",
    "        url = self.base_url + f'/shows/{show_id}/episodes'\n",
    "        res = self._get(url)\n",
    "        if res.status_code == 200:\n",
    "            return res.json()\n",
    "        return res\n",
    "        \n",
    "        "
   ]
  },
  {
   "cell_type": "markdown",
   "metadata": {},
   "source": [
    "### Create class for Tv Show objects"
   ]
  },
  {
   "cell_type": "code",
   "execution_count": 7,
   "metadata": {},
   "outputs": [],
   "source": [
    "class TVShow:\n",
    "    def __init__(self, show_id, title, img, summary, network):\n",
    "        self.id = show_id\n",
    "        self.title = title\n",
    "        self.image = img\n",
    "        self.summary = summary\n",
    "        self.network = network\n",
    "        self.episodes = self.get_episodes()\n",
    "        \n",
    "    def __repr__(self):\n",
    "        return f'<TV Show | {self.title} >'\n",
    "    \n",
    "    def __str__(self):\n",
    "        return f'{self.id} - {self.title}'\n",
    "    \n",
    "    def get_episodes(self):\n",
    "        api = TVMazeAPI()\n",
    "        episodes = api.get_episode_list(self.id)\n",
    "        all_eps = []\n",
    "        for episode in episodes:\n",
    "            episode_id = episode['id']\n",
    "            title = episode['name']\n",
    "            season = episode['season']\n",
    "            number = episode['number']\n",
    "            airdate = episode['airdate']\n",
    "            summary = episode['summary']\n",
    "            all_eps.append(Episode(episode_id, title, season, number, airdate, summary))\n",
    "        return all_eps\n",
    "        \n",
    "        \n",
    "        \n",
    "        \n",
    "class Episode:\n",
    "    def __init__(self, episode_id, title, season, number, airdate, summary):\n",
    "        self.id = episode_id\n",
    "        self.title = title\n",
    "        self.season = season\n",
    "        self.number = number\n",
    "        self.airdate = airdate\n",
    "        self.summary = summary\n",
    "        \n",
    "    def __repr__(self):\n",
    "        return f'<Episode | {self.title}>'\n",
    "    \n",
    "    def __str__(self):\n",
    "        return f'{self.id} - {self.title}'"
   ]
  },
  {
   "cell_type": "code",
   "execution_count": 8,
   "metadata": {},
   "outputs": [],
   "source": [
    "client = TVMazeAPI()\n",
    "search = client.search_shows('Friend')"
   ]
  },
  {
   "cell_type": "code",
   "execution_count": 9,
   "metadata": {},
   "outputs": [
    {
     "name": "stdout",
     "output_type": "stream",
     "text": [
      "2052729 - Pretend to Love\n",
      "2052730 - Just Friend\n",
      "2052731 - Willing Or Not\n",
      "2052732 - Just One Life\n",
      "2052733 - Dear My Star\n",
      "2052734 - Imagine You\n"
     ]
    }
   ],
   "source": [
    "show1 = search[1]\n",
    "for episode in show1.episodes:\n",
    "    print(episode)"
   ]
  },
  {
   "cell_type": "code",
   "execution_count": 10,
   "metadata": {},
   "outputs": [
    {
     "data": {
      "text/plain": [
       "<TV Show | Lost >"
      ]
     },
     "execution_count": 10,
     "metadata": {},
     "output_type": "execute_result"
    }
   ],
   "source": [
    "a = client.get_show_info(123)\n",
    "a"
   ]
  },
  {
   "cell_type": "code",
   "execution_count": 11,
   "metadata": {},
   "outputs": [
    {
     "data": {
      "text/plain": [
       "[{'id': 2029373,\n",
       "  'url': 'https://www.tvmaze.com/episodes/2029373/mare-of-easttown-1x01-miss-lady-hawk-herself',\n",
       "  'name': 'Miss Lady Hawk Herself',\n",
       "  'season': 1,\n",
       "  'number': 1,\n",
       "  'type': 'regular',\n",
       "  'airdate': '2021-04-18',\n",
       "  'airtime': '22:00',\n",
       "  'airstamp': '2021-04-19T02:00:00+00:00',\n",
       "  'runtime': 56,\n",
       "  'image': {'medium': 'https://static.tvmaze.com/uploads/images/medium_landscape/325/813044.jpg',\n",
       "   'original': 'https://static.tvmaze.com/uploads/images/original_untouched/325/813044.jpg'},\n",
       "  'summary': \"<p>After answering a call about a neighborhood prowler, Detective Mare Sheehan shoulders her chief's directive to revive an unsolved missing person's case amid increased community pressure. Later, while her loved ones celebrate her ex-husband Frank's engagement, Mare attends a celebration for her legendary high school basketball win and connects with Richard, a professor who's new in town.</p>\",\n",
       "  '_links': {'self': {'href': 'https://api.tvmaze.com/episodes/2029373'}}},\n",
       " {'id': 2047408,\n",
       "  'url': 'https://www.tvmaze.com/episodes/2047408/mare-of-easttown-1x02-fathers',\n",
       "  'name': 'Fathers',\n",
       "  'season': 1,\n",
       "  'number': 2,\n",
       "  'type': 'regular',\n",
       "  'airdate': '2021-04-25',\n",
       "  'airtime': '22:00',\n",
       "  'airstamp': '2021-04-26T02:00:00+00:00',\n",
       "  'runtime': 56,\n",
       "  'image': {'medium': 'https://static.tvmaze.com/uploads/images/medium_landscape/325/813046.jpg',\n",
       "   'original': 'https://static.tvmaze.com/uploads/images/original_untouched/325/813046.jpg'},\n",
       "  'summary': \"<p>Mare visits a grisly murder scene before informing the victim's enraged father. As a video from the night of the crime surfaces, Mare questions suspects in the case and gives an icy welcome to County Detective Colin Zabel, who's been called in to assist. Later, Mare bumps heads with locals and airs concerns about her grandson Drew in light of her late son's mental health struggles.</p>\",\n",
       "  '_links': {'self': {'href': 'https://api.tvmaze.com/episodes/2047408'}}},\n",
       " {'id': 2047593,\n",
       "  'url': 'https://www.tvmaze.com/episodes/2047593/mare-of-easttown-1x03-enter-number-two',\n",
       "  'name': 'Enter Number Two',\n",
       "  'season': 1,\n",
       "  'number': 3,\n",
       "  'type': 'regular',\n",
       "  'airdate': '2021-05-02',\n",
       "  'airtime': '22:00',\n",
       "  'airstamp': '2021-05-03T02:00:00+00:00',\n",
       "  'runtime': 57,\n",
       "  'image': {'medium': 'https://static.tvmaze.com/uploads/images/medium_landscape/325/813047.jpg',\n",
       "   'original': 'https://static.tvmaze.com/uploads/images/original_untouched/325/813047.jpg'},\n",
       "  'summary': '<p>As Mare and Colin parse new physical evidence, phone records lead to an unlikely suspect. After lashing out at Helen about a possible custody fight over Drew, Mare receives some unprompted advice from Richard on how to move forward with Carrie. Later, Kenny and Mare face the consequences of their misguided attempts to protect their families.</p>',\n",
       "  '_links': {'self': {'href': 'https://api.tvmaze.com/episodes/2047593'}}},\n",
       " {'id': 2047594,\n",
       "  'url': 'https://www.tvmaze.com/episodes/2047594/mare-of-easttown-1x04-poor-sisyphus',\n",
       "  'name': 'Poor Sisyphus',\n",
       "  'season': 1,\n",
       "  'number': 4,\n",
       "  'type': 'regular',\n",
       "  'airdate': '2021-05-09',\n",
       "  'airtime': '22:00',\n",
       "  'airstamp': '2021-05-10T02:00:00+00:00',\n",
       "  'runtime': 54,\n",
       "  'image': {'medium': 'https://static.tvmaze.com/uploads/images/medium_landscape/325/813048.jpg',\n",
       "   'original': 'https://static.tvmaze.com/uploads/images/original_untouched/325/813048.jpg'},\n",
       "  'summary': '<p>With Mare forced to take a backseat on the case, Colin presses a local priest about the vague circumstances that prompted his transfer to the parish. Meanwhile, an anonymous call gives Dawn hope that Katie might still be alive.</p>',\n",
       "  '_links': {'self': {'href': 'https://api.tvmaze.com/episodes/2047594'}}},\n",
       " {'id': 2047595,\n",
       "  'url': 'https://www.tvmaze.com/episodes/2047595/mare-of-easttown-1x05-illusions',\n",
       "  'name': 'Illusions',\n",
       "  'season': 1,\n",
       "  'number': 5,\n",
       "  'type': 'regular',\n",
       "  'airdate': '2021-05-16',\n",
       "  'airtime': '22:00',\n",
       "  'airstamp': '2021-05-17T02:00:00+00:00',\n",
       "  'runtime': 57,\n",
       "  'image': {'medium': 'https://static.tvmaze.com/uploads/images/medium_landscape/325/813049.jpg',\n",
       "   'original': 'https://static.tvmaze.com/uploads/images/original_untouched/325/813049.jpg'},\n",
       "  'summary': \"<p>In her mandated therapy, Mare opens up about her family's history with mental health struggles. Meanwhile, Lori tries to get to the bottom of her son's outburst at school, and later, Mare meets with a semi-retired source to help find a possible connection to her three cases.</p>\",\n",
       "  '_links': {'self': {'href': 'https://api.tvmaze.com/episodes/2047595'}}},\n",
       " {'id': 2047596,\n",
       "  'url': 'https://www.tvmaze.com/episodes/2047596/mare-of-easttown-1x06-sore-must-be-the-storm',\n",
       "  'name': 'Sore Must Be the Storm',\n",
       "  'season': 1,\n",
       "  'number': 6,\n",
       "  'type': 'regular',\n",
       "  'airdate': '2021-05-23',\n",
       "  'airtime': '22:00',\n",
       "  'airstamp': '2021-05-24T02:00:00+00:00',\n",
       "  'runtime': 57,\n",
       "  'image': {'medium': 'https://static.tvmaze.com/uploads/images/medium_landscape/325/813050.jpg',\n",
       "   'original': 'https://static.tvmaze.com/uploads/images/original_untouched/325/813050.jpg'},\n",
       "  'summary': '<p>After a heroic rescue lands her in the hospital, Mare awakes to the pain of losing a friend. Then, given a second chance by Chief Carter, Mare reevaluates old suspects, which leads to a shocking clue. Meanwhile, Richard visits Mare in hopes of deepening their relationship, and Lori confides in her best friend about recent family troubles.</p>',\n",
       "  '_links': {'self': {'href': 'https://api.tvmaze.com/episodes/2047596'}}},\n",
       " {'id': 2047597,\n",
       "  'url': 'https://www.tvmaze.com/episodes/2047597/mare-of-easttown-1x07-sacrament',\n",
       "  'name': 'Sacrament',\n",
       "  'season': 1,\n",
       "  'number': 7,\n",
       "  'type': 'regular',\n",
       "  'airdate': '2021-05-30',\n",
       "  'airtime': '22:00',\n",
       "  'airstamp': '2021-05-31T02:00:00+00:00',\n",
       "  'runtime': 64,\n",
       "  'image': {'medium': 'https://static.tvmaze.com/uploads/images/medium_landscape/325/813051.jpg',\n",
       "   'original': 'https://static.tvmaze.com/uploads/images/original_untouched/325/813051.jpg'},\n",
       "  'summary': \"<p>Mare's investigation takes a series of devastating turns, while her friends and family members process the fallout as she attempts to finally find her own way forward. Season 1 finale.</p>\",\n",
       "  '_links': {'self': {'href': 'https://api.tvmaze.com/episodes/2047597'}}}]"
      ]
     },
     "execution_count": 11,
     "metadata": {},
     "output_type": "execute_result"
    }
   ],
   "source": [
    "client.get_episode_list(40546)"
   ]
  },
  {
   "cell_type": "code",
   "execution_count": 14,
   "metadata": {},
   "outputs": [
    {
     "data": {
      "text/plain": [
       "<TV Show | Lost >"
      ]
     },
     "execution_count": 14,
     "metadata": {},
     "output_type": "execute_result"
    }
   ],
   "source": [
    "a = client.get_show_info(123)\n",
    "a"
   ]
  },
  {
   "cell_type": "code",
   "execution_count": null,
   "metadata": {},
   "outputs": [],
   "source": []
  }
 ],
 "metadata": {
  "kernelspec": {
   "display_name": "Python 3",
   "language": "python",
   "name": "python3"
  },
  "language_info": {
   "codemirror_mode": {
    "name": "ipython",
    "version": 3
   },
   "file_extension": ".py",
   "mimetype": "text/x-python",
   "name": "python",
   "nbconvert_exporter": "python",
   "pygments_lexer": "ipython3",
   "version": "3.8.5"
  }
 },
 "nbformat": 4,
 "nbformat_minor": 4
}
